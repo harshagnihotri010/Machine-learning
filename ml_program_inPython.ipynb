{
  "cells": [
    {
      "cell_type": "markdown",
      "metadata": {
        "id": "view-in-github",
        "colab_type": "text"
      },
      "source": [
        "<a href=\"https://colab.research.google.com/github/harshagnihotri010/Machine-learning/blob/main/ml_program_inPython.ipynb\" target=\"_parent\"><img src=\"https://colab.research.google.com/assets/colab-badge.svg\" alt=\"Open In Colab\"/></a>"
      ]
    },
    {
      "cell_type": "code",
      "execution_count": null,
      "metadata": {
        "id": "HXyQVjn5VCFT"
      },
      "outputs": [],
      "source": [
        "import random\n",
        "import matplotlib.pyplot as plt"
      ]
    },
    {
      "cell_type": "markdown",
      "source": [
        "In this line we have imported the \"Random\" module which is an in-built module used in python program for various purposes. Here we have used the random module to take random digits and alphabets in the list.\n",
        "\n",
        "Secondly we have imported \"matplotlib.pyplot as plt\" because Matplotlib is extremely powerful because it allows users to create numerous and diverse plot types. Here we have used it to create the histogram from the following the data."
      ],
      "metadata": {
        "id": "5GTYlcg05M2O"
      }
    },
    {
      "cell_type": "code",
      "execution_count": null,
      "metadata": {
        "id": "3vAeQvqxYQQc"
      },
      "outputs": [],
      "source": [
        "mapping_dict = dict(zip(range(0,10),range(0,10)))"
      ]
    },
    {
      "cell_type": "markdown",
      "source": [
        "This line creates a dictionary called mapping_dict. It starts by pairing the numbers from 0 to 9 with themselves, essentially creating a mapping of digits to their string representations."
      ],
      "metadata": {
        "id": "L6w0EGyA-7KD"
      }
    },
    {
      "cell_type": "code",
      "execution_count": null,
      "metadata": {
        "colab": {
          "base_uri": "https://localhost:8080/"
        },
        "id": "oBzWrsy2nsoC",
        "outputId": "cbb3ec20-8c2c-4fbf-cd89-76d27ce3b146"
      },
      "outputs": [
        {
          "output_type": "execute_result",
          "data": {
            "text/plain": [
              "{0: 0, 1: 1, 2: 2, 3: 3, 4: 4, 5: 5, 6: 6, 7: 7, 8: 8, 9: 9}"
            ]
          },
          "metadata": {},
          "execution_count": 17
        }
      ],
      "source": [
        "mapping_dict"
      ]
    },
    {
      "cell_type": "markdown",
      "source": [
        "Here in this line we are printing the the dictionary which we have made in the above code."
      ],
      "metadata": {
        "id": "NNj-3CE4VvaM"
      }
    },
    {
      "cell_type": "code",
      "execution_count": null,
      "metadata": {
        "id": "ghEVfaoApjSN"
      },
      "outputs": [],
      "source": [
        "for k in mapping_dict.keys():\n",
        "\n",
        "  mapping_dict[k] = str(mapping_dict[k])"
      ]
    },
    {
      "cell_type": "markdown",
      "source": [
        "This line begins a for loop that iterates over the keys of the mapping_dict dictionary. The key for each iteration is stored in the variable k."
      ],
      "metadata": {
        "id": "3sPVQ5TdHC36"
      }
    },
    {
      "cell_type": "code",
      "execution_count": null,
      "metadata": {
        "colab": {
          "base_uri": "https://localhost:8080/"
        },
        "id": "VKAyIsW6q_qS",
        "outputId": "ec4e64cf-6180-448e-db05-1e8d80c7b429"
      },
      "outputs": [
        {
          "output_type": "execute_result",
          "data": {
            "text/plain": [
              "{0: '0',\n",
              " 1: '1',\n",
              " 2: '2',\n",
              " 3: '3',\n",
              " 4: '4',\n",
              " 5: '5',\n",
              " 6: '6',\n",
              " 7: '7',\n",
              " 8: '8',\n",
              " 9: '9'}"
            ]
          },
          "metadata": {},
          "execution_count": 19
        }
      ],
      "source": [
        "mapping_dict"
      ]
    },
    {
      "cell_type": "markdown",
      "source": [
        "Again we are printing the dictionary after using the for loop that iterates over the keys."
      ],
      "metadata": {
        "id": "sJXigF_zHNwE"
      }
    },
    {
      "cell_type": "code",
      "execution_count": null,
      "metadata": {
        "id": "GowosEpVrXfK"
      },
      "outputs": [],
      "source": [
        "for i in range(0,26):\n",
        "  mapping_dict[10+i] = chr(65+i)"
      ]
    },
    {
      "cell_type": "markdown",
      "source": [
        "Explanation of For loop:- This line starts another for loop that iterates 26 times as we have given the range from 0 to 26, with the variable i taking on values from 0 to 25.\n",
        "\n",
        "Explanation of the inner statement in the for loop:-This line within the loop adds mappings for uppercase letters (A to Z) to the mapping_dict. It uses the chr() function to convert ASCII codes (65 to 90) to their corresponding letters. This expands the dictionary to include both digits and letters."
      ],
      "metadata": {
        "id": "yznImMCyH3Ph"
      }
    },
    {
      "cell_type": "code",
      "execution_count": null,
      "metadata": {
        "colab": {
          "base_uri": "https://localhost:8080/"
        },
        "id": "beprdUCauVOp",
        "outputId": "2c261ad8-c10a-48bd-b11b-189afa33ff9c"
      },
      "outputs": [
        {
          "output_type": "execute_result",
          "data": {
            "text/plain": [
              "{0: '0',\n",
              " 1: '1',\n",
              " 2: '2',\n",
              " 3: '3',\n",
              " 4: '4',\n",
              " 5: '5',\n",
              " 6: '6',\n",
              " 7: '7',\n",
              " 8: '8',\n",
              " 9: '9',\n",
              " 10: 'A',\n",
              " 11: 'B',\n",
              " 12: 'C',\n",
              " 13: 'D',\n",
              " 14: 'E',\n",
              " 15: 'F',\n",
              " 16: 'G',\n",
              " 17: 'H',\n",
              " 18: 'I',\n",
              " 19: 'J',\n",
              " 20: 'K',\n",
              " 21: 'L',\n",
              " 22: 'M',\n",
              " 23: 'N',\n",
              " 24: 'O',\n",
              " 25: 'P',\n",
              " 26: 'Q',\n",
              " 27: 'R',\n",
              " 28: 'S',\n",
              " 29: 'T',\n",
              " 30: 'U',\n",
              " 31: 'V',\n",
              " 32: 'W',\n",
              " 33: 'X',\n",
              " 34: 'Y',\n",
              " 35: 'Z'}"
            ]
          },
          "metadata": {},
          "execution_count": 21
        }
      ],
      "source": [
        "mapping_dict"
      ]
    },
    {
      "cell_type": "code",
      "execution_count": null,
      "metadata": {
        "id": "KPGkS2NXVMGn"
      },
      "outputs": [],
      "source": [
        "sample_size=1000000\n",
        "\n",
        "random_numbers = list()\n",
        "\n",
        "for i in range(0,sample_size):\n",
        "\n",
        "  blank_str = str()\n",
        "\n",
        "  random_digit = random.randint(0,35)\n",
        "  blank_str = blank_str + mapping_dict[random_digit]\n",
        "\n",
        "  random_digit = random.randint(0,35)\n",
        "  blank_str = blank_str + mapping_dict[random_digit]\n",
        "\n",
        "  for i in range(0,8):\n",
        "    coin_toss = random.randint(0,1)\n",
        "\n",
        "    if coin_toss == 1:\n",
        "\n",
        "      random_digit = random.randint(0,35)\n",
        "      blank_str = blank_str + mapping_dict[random_digit]\n",
        "\n",
        "    else:\n",
        "      break\n",
        "\n",
        "  random_numbers.append(blank_str)"
      ]
    },
    {
      "cell_type": "markdown",
      "source": [
        "~This line sets a variable called sample_size to 1000000. This value will be used to control the number of random numbers generated in the following steps.\n",
        "\n",
        "~This line creates an empty list called random_numbers. This list will be used to store the generated random numbers in **string format**.\n",
        "\n",
        "~This line starts a for loop that iterates sample_size times which is 1000000 in this case. The variable i is used as a counter within the loop.\n",
        "\n",
        "~This line within the loop creates an empty string called blank_str. This string will be used to gather or collect digits and letters together to create a single entity, in this case the random number string.\n",
        "\n",
        "~This line generates a random integer between 0 and 35 using the **random.randint() function**. This random integer will be used to select a digit or letter from the mapping_dict.\n",
        "\n",
        "~This line appends the digit or letter corresponding to the random integer generated in the previous line to the blank_str string. It does this by accessing the mapping_dict using the random integer as the key and concatenating(joining) the retrieved value to the string.\n",
        "\n",
        "~This line again generates a new random integer between 0 and 35.\n",
        "\n",
        "~This line appends another digit or letter from the mapping_dict to the blank_str string, based on the newly generated random integer. This ensures that the random number being constructed has at least two digits or letters.\n",
        "\n",
        "~This line starts a nested for loop that iterates up to 8 times. It's used to potentially add more digits or letters to the random number (which means suppose a coin toss where you get Head after tossing the coin and when you get head you have to add another digit or letter to the number but when you get Tail after tossing coin then you don't have to add another digit or number you just have to move to another iteration), but with a probabilistic element(decision based on probability).\n",
        "\n",
        "~This line, within the nested loop, simulates a coin toss by generating a random integer of either 0 or 1(a computer cannot toss a real coin so this line helps the computer to generate the same value as we get after tossing a coin in the format of 0 and 1). This will determine whether or not to add another digit or letter to the current random number.\n",
        "\n",
        "~This line begins a conditional statement that checks if the result of the coin toss (from line 11) was a 1. If it was, the code within this if block will execute.\n",
        "\n",
        "~This line within the if block generates another random integer between 0 and 35, similar to previous lines. This is used to potentially add another digit or letter to the random number.\n",
        "\n",
        "~This line, also within the if block, appends the digit or letter corresponding to the newly generated random integer to the blank_str string, expanding the random number.\n",
        "\n",
        "~This line marks the beginning of the else block, which executes if the coin toss from line 11 was not a 1.\n",
        "\n",
        "~This line within the else block immediately terminates the nested loop from line 11(for loop). This means that no more digits or letters will be added to the current random number, and the process moves on to the next iteration of the main loop.\n",
        "\n",
        "~This line outside of both loops appends the completed random number string (stored in blank_str) to the random_numbers list. This list accumulates all the generated random numbers."
      ],
      "metadata": {
        "id": "-RgeGNAdIfbw"
      }
    },
    {
      "cell_type": "code",
      "execution_count": null,
      "metadata": {
        "id": "Q2nV3-Jgv-GR"
      },
      "outputs": [],
      "source": [
        "reverse_mapping_dict = dict()\n",
        "\n",
        "for k in mapping_dict.keys():\n",
        "  reverse_mapping_dict[mapping_dict[k]] = k"
      ]
    },
    {
      "cell_type": "markdown",
      "source": [
        "~This line creates an empty dictionary called reverse_mapping_dict. This dictionary will be used to store a mapping from digits and letters back to their corresponding keys in the original mapping_dict.\n",
        "\n",
        "~This line starts a loop that iterates over the keys of the mapping_dict.\n",
        "\n",
        "~This line, within the loop, creates a mapping in the reverse_mapping_dict where the keys are the values from the mapping_dict (digits and letters), and the corresponding values are the original keys (integers from 0 to 35). This essentially reverses the mapping for later use.\n",
        "\n"
      ],
      "metadata": {
        "id": "HHXWJyvCL2SF"
      }
    },
    {
      "cell_type": "code",
      "execution_count": null,
      "metadata": {
        "id": "ba745hqvyubF"
      },
      "outputs": [],
      "source": [
        "base_frequency = dict()\n",
        "\n",
        "for blank_str in random_numbers:\n",
        "  highest_digit = max(blank_str)\n",
        "  highest_base = reverse_mapping_dict[highest_digit] + 1\n",
        "\n",
        "  if highest_base in base_frequency.keys():\n",
        "    base_frequency[highest_base] += 1/sample_size\n",
        "  else:\n",
        "    base_frequency[highest_base] = 1/sample_size"
      ]
    },
    {
      "cell_type": "markdown",
      "source": [
        "~This line creates an empty dictionary called base_frequency. This dictionary will be used to store the frequencies of different \"bases\" (essentially, the highest digit or letter) found in the generated random numbers.\n",
        "\n",
        "~This line starts a loop that iterates over each random number string in the random_numbers list.\n",
        "\n",
        "~This line within the loop finds the highest digit or letter (based on ASCII values) in the current random number string. This value is stored in the variable highest_digit.\n",
        "\n",
        "~This line  still within the loop  uses the reverse_mapping_dict to find the original key (integer) corresponding to the highest digit or letter. It then adds 1 to this key to determine the base of the number. For example, if the highest digit is 'A', the base would be 11 (10 + 1).\n",
        "\n",
        "~This line begins a conditional statement that checks if the calculated base has already been encountered in the base_frequency dictionary.\n",
        "\n",
        "~This line, within the if block, increments the frequency count for the base in the base_frequency dictionary. It normalizes the count by dividing by the sample_size to get a proportion.\n",
        "\n",
        "~This line marks the beginning of the else block, which executes if the base has not been encountered before.\n",
        "\n",
        "~This line, within the else block, initializes the frequency count for the new base in the base_frequency dictionary, again normalizing it by dividing by the sample_size."
      ],
      "metadata": {
        "id": "2sbjogU5NNtY"
      }
    },
    {
      "cell_type": "code",
      "execution_count": null,
      "metadata": {
        "id": "p7d57Lu4yqud",
        "colab": {
          "base_uri": "https://localhost:8080/",
          "height": 447
        },
        "outputId": "502560e8-3387-4d12-efbc-f5c8a4bbe5d0"
      },
      "outputs": [
        {
          "output_type": "execute_result",
          "data": {
            "text/plain": [
              "<BarContainer object of 36 artists>"
            ]
          },
          "metadata": {},
          "execution_count": 25
        },
        {
          "output_type": "display_data",
          "data": {
            "text/plain": [
              "<Figure size 640x480 with 1 Axes>"
            ],
            "image/png": "[encoded data removed]"
          },
          "metadata": {}
        }
      ],
      "source": [
        "plt.bar(x=base_frequency.keys(),height=base_frequency.values())"
      ]
    },
    {
      "cell_type": "markdown",
      "source": [
        "This line displays the generated bar chart on the screen."
      ],
      "metadata": {
        "id": "ME1mtiD2NWbr"
      }
    }
  ],
  "metadata": {
    "colab": {
      "provenance": [],
      "include_colab_link": true
    },
    "kernelspec": {
      "display_name": "Python 3",
      "name": "python3"
    },
    "language_info": {
      "name": "python"
    }
  },
  "nbformat": 4,
  "nbformat_minor": 0
}